{
 "cells": [
  {
   "cell_type": "code",
   "execution_count": 3,
   "metadata": {},
   "outputs": [
    {
     "name": "stdout",
     "output_type": "stream",
     "text": [
      "<function is_two at 0x7fbdb4532c10>\n"
     ]
    }
   ],
   "source": [
    "# 1.\n",
    "\n",
    "def is_two(x):\n",
    "    if(x == 2):\n",
    "        return True\n",
    "    if(x != 2):\n",
    "        return False\n",
    "\n",
    "assert is_two(3) == False\n",
    "assert is_two(2) == True\n",
    "print('correct')\n"
   ]
  },
  {
   "cell_type": "code",
   "execution_count": 33,
   "metadata": {},
   "outputs": [],
   "source": [
    "# 1. alternative\n",
    "\n",
    "def is_two(x):\n",
    "    return x == 2 or x == '2'"
   ]
  },
  {
   "cell_type": "code",
   "execution_count": 6,
   "metadata": {},
   "outputs": [],
   "source": [
    "# 2.\n",
    "\n",
    "def is_vowel(x):\n",
    "    if x == 'a' or x == 'e' or x == 'i' or x == 'o' or x == 'u':\n",
    "        return True\n",
    "    else:\n",
    "        return False\n",
    "\n",
    "assert is_vowel('a') == True\n",
    "assert is_vowel('t') == False\n",
    "print('correct')\n"
   ]
  },
  {
   "cell_type": "code",
   "execution_count": 34,
   "metadata": {},
   "outputs": [],
   "source": [
    "# 2. alternative\n",
    "\n",
    "def is_vowel(string):\n",
    "    return len(string) == 1 and string.lower() in 'aeiou'"
   ]
  },
  {
   "cell_type": "code",
   "execution_count": 39,
   "metadata": {},
   "outputs": [
    {
     "name": "stdout",
     "output_type": "stream",
     "text": [
      "correct\n"
     ]
    }
   ],
   "source": [
    "# 3. \n",
    "\n",
    "def is_consonant(x):\n",
    "    if x == 'a' or x == 'e' or x == 'i' or x == 'o' or x == 'u':\n",
    "        return False\n",
    "    else:\n",
    "        return True\n",
    "\n",
    "assert is_consonant('e') == False\n",
    "assert is_consonant('f') == True\n",
    "print('correct')"
   ]
  },
  {
   "cell_type": "code",
   "execution_count": 35,
   "metadata": {},
   "outputs": [],
   "source": [
    "#3. alterative\n",
    "\n",
    "def is_consonant(string):\n",
    "    return len(string) == 1 and not is_vowel(string) and string.isalpha()"
   ]
  },
  {
   "cell_type": "code",
   "execution_count": 38,
   "metadata": {},
   "outputs": [
    {
     "name": "stdout",
     "output_type": "stream",
     "text": [
      "Success\n"
     ]
    }
   ],
   "source": [
    "# 4.\n",
    "\n",
    "vowel = 'a,e,i,o,u'\n",
    "def string(word):\n",
    "    word = str(word).lower()\n",
    "    if word[0] not in vowel:\n",
    "        return word.title()\n",
    "    else:\n",
    "        return word\n",
    "\n",
    "assert string('alpha') == 'alpha'\n",
    "assert string('DELTA') == 'Delta'\n",
    "assert string('Echo') == 'echo'\n",
    "print('correct')"
   ]
  },
  {
   "cell_type": "code",
   "execution_count": 13,
   "metadata": {},
   "outputs": [],
   "source": [
    "# 5.\n",
    "\n",
    "def calculate_tip(tip, bill):\n",
    "    tip_percentage = tip / 100\n",
    "    total = tip_percentage * bill\n",
    "    return total\n",
    "\n",
    "assert calculate_tip(15,120) == 18\n",
    "assert calculate_tip(5,100) == 5\n",
    "assert calculate_tip(10,250) == 25\n",
    "print('correct')"
   ]
  },
  {
   "cell_type": "code",
   "execution_count": 14,
   "metadata": {},
   "outputs": [],
   "source": [
    "# 6.\n",
    "\n",
    "def apply_discount(og_price,discount):\n",
    "    discount = discount / 100\n",
    "    net_price = og_price * (1-discount)\n",
    "    return net_price\n",
    "\n",
    "assert apply_discount(50,20) == 40\n",
    "assert apply_discount(100,15) == 85\n",
    "assert apply_discount(150,5) == 142.5\n",
    "print('correct')"
   ]
  },
  {
   "cell_type": "code",
   "execution_count": 40,
   "metadata": {},
   "outputs": [
    {
     "name": "stdout",
     "output_type": "stream",
     "text": [
      "correct\n"
     ]
    }
   ],
   "source": [
    "# 7.\n",
    "\n",
    "def handle_commas(x):\n",
    "    less_commas = x.replace(',','')\n",
    "    actual_number = int(less_commas)\n",
    "    return actual_number\n",
    "\n",
    "\n",
    "assert handle_commas('100,000') == 100000\n",
    "assert handle_commas('2,459') == 2459\n",
    "assert handle_commas('85,999') == 85999\n",
    "print('correct')"
   ]
  },
  {
   "cell_type": "code",
   "execution_count": 41,
   "metadata": {},
   "outputs": [
    {
     "name": "stdout",
     "output_type": "stream",
     "text": [
      "correct\n"
     ]
    }
   ],
   "source": [
    "# 8.\n",
    "\n",
    "def get_letter_grade(x):\n",
    "    if x >= 88:\n",
    "        return('Your letter grade: A')\n",
    "    elif x >= 80:\n",
    "        return('Your letter grade: B')\n",
    "    elif x >= 67:\n",
    "        return('Your letter grade: C')\n",
    "    elif x >= 60:\n",
    "        return('Your letter grade: D')\n",
    "    else:\n",
    "        return('Your letter grade: F')\n",
    "\n",
    "\n",
    "assert get_letter_grade(78) == 'Your letter grade: C'\n",
    "assert get_letter_grade(61) == 'Your letter grade: D'\n",
    "assert get_letter_grade(95) == 'Your letter grade: A'\n",
    "print('correct')\n"
   ]
  },
  {
   "cell_type": "code",
   "execution_count": 42,
   "metadata": {},
   "outputs": [
    {
     "name": "stdout",
     "output_type": "stream",
     "text": [
      "correct\n"
     ]
    }
   ],
   "source": [
    "# 9.\n",
    "\n",
    "def remove_vowels(x):\n",
    "    for vowel in 'aeiouAEIOU':\n",
    "        x = x.replace(vowel,'')\n",
    "    return x\n",
    "\n",
    "assert remove_vowels('aardvark') == 'rdvrk'\n",
    "assert remove_vowels('plain') == 'pln'\n",
    "assert remove_vowels('blair') == 'blr'\n",
    "print('correct')"
   ]
  },
  {
   "cell_type": "code",
   "execution_count": 46,
   "metadata": {},
   "outputs": [
    {
     "name": "stdout",
     "output_type": "stream",
     "text": [
      "correct\n"
     ]
    }
   ],
   "source": [
    "# 10.\n",
    "\n",
    "def remove_special_char(string):\n",
    "    return ''.join([c for c in string if c.isalnum() or c == ' '])\n",
    "\n",
    "def normalize_name(string):\n",
    "    special_char_removed = remove_special_char(string)\n",
    "    return special_char_removed.lower().strip().replace(' ', '_')\n",
    "    \n",
    "assert normalize_name('Name') == 'name'\n",
    "assert normalize_name('First Name') == 'first_name'\n",
    "assert normalize_name('% Completed') == 'completed'\n",
    "print('correct')"
   ]
  },
  {
   "cell_type": "code",
   "execution_count": null,
   "metadata": {},
   "outputs": [],
   "source": [
    "# 11. \n",
    "\n",
    "def cumulative_sum(nums):\n",
    "    "
   ]
  }
 ],
 "metadata": {
  "interpreter": {
   "hash": "3067ead486e059ec00ffe7555bdb889e6e264a24dc711bf108106cc7baee8d5d"
  },
  "kernelspec": {
   "display_name": "Python 3.9.12 ('base')",
   "language": "python",
   "name": "python3"
  },
  "language_info": {
   "codemirror_mode": {
    "name": "ipython",
    "version": 3
   },
   "file_extension": ".py",
   "mimetype": "text/x-python",
   "name": "python",
   "nbconvert_exporter": "python",
   "pygments_lexer": "ipython3",
   "version": "3.9.12"
  },
  "orig_nbformat": 4
 },
 "nbformat": 4,
 "nbformat_minor": 2
}
