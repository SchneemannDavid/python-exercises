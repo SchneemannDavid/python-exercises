{
 "cells": [
  {
   "cell_type": "code",
   "execution_count": 1,
   "id": "14194aaa",
   "metadata": {},
   "outputs": [
    {
     "name": "stdout",
     "output_type": "stream",
     "text": [
      "Hello Kalpana!\n"
     ]
    }
   ],
   "source": [
    "# This is a comment\n",
    "\n",
    "greeting = \"Hello Kalpana!\"\n",
    "\n",
    "print(greeting)"
   ]
  },
  {
   "cell_type": "markdown",
   "id": "776de301",
   "metadata": {},
   "source": [
    "## This is a heading\n",
    "### This is a sub-heading\n",
    "- This is a bullet"
   ]
  },
  {
   "cell_type": "code",
   "execution_count": 5,
   "id": "59cf8dbb",
   "metadata": {},
   "outputs": [
    {
     "name": "stdout",
     "output_type": "stream",
     "text": [
      "this is a test of the emergency broadcast system weeeeeewoooooooweeeeewoooooo\n"
     ]
    }
   ],
   "source": [
    "test = \"this is a test of the emergency broadcast system\"\n",
    "test2 = 'weeeeeewoooooooweeeeewoooooo'\n",
    "\n",
    "print(test,test2)\n"
   ]
  },
  {
   "cell_type": "code",
   "execution_count": null,
   "id": "407f1838",
   "metadata": {},
   "outputs": [],
   "source": []
  },
  {
   "cell_type": "code",
   "execution_count": null,
   "id": "26d8a319",
   "metadata": {},
   "outputs": [],
   "source": []
  }
 ],
 "metadata": {
  "kernelspec": {
   "display_name": "Python 3 (ipykernel)",
   "language": "python",
   "name": "python3"
  },
  "language_info": {
   "codemirror_mode": {
    "name": "ipython",
    "version": 3
   },
   "file_extension": ".py",
   "mimetype": "text/x-python",
   "name": "python",
   "nbconvert_exporter": "python",
   "pygments_lexer": "ipython3",
   "version": "3.9.12"
  }
 },
 "nbformat": 4,
 "nbformat_minor": 5
}
