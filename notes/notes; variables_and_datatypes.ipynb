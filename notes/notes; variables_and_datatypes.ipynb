{
 "cells": [
  {
   "cell_type": "code",
   "execution_count": 1,
   "id": "abf701f1",
   "metadata": {},
   "outputs": [
    {
     "data": {
      "text/plain": [
       "int"
      ]
     },
     "execution_count": 1,
     "metadata": {},
     "output_type": "execute_result"
    }
   ],
   "source": [
    "type(1)"
   ]
  },
  {
   "cell_type": "code",
   "execution_count": 3,
   "id": "c9577a86",
   "metadata": {},
   "outputs": [
    {
     "data": {
      "text/plain": [
       "float"
      ]
     },
     "execution_count": 3,
     "metadata": {},
     "output_type": "execute_result"
    }
   ],
   "source": [
    "type(2.0)"
   ]
  },
  {
   "cell_type": "code",
   "execution_count": 4,
   "id": "2abe8879",
   "metadata": {},
   "outputs": [
    {
     "data": {
      "text/plain": [
       "str"
      ]
     },
     "execution_count": 4,
     "metadata": {},
     "output_type": "execute_result"
    }
   ],
   "source": [
    "type('kalpana')"
   ]
  },
  {
   "cell_type": "code",
   "execution_count": 7,
   "id": "3e4a8ce0",
   "metadata": {},
   "outputs": [
    {
     "data": {
      "text/plain": [
       "bool"
      ]
     },
     "execution_count": 7,
     "metadata": {},
     "output_type": "execute_result"
    }
   ],
   "source": [
    "type(True)"
   ]
  },
  {
   "cell_type": "code",
   "execution_count": 11,
   "id": "d2ef47e8",
   "metadata": {},
   "outputs": [],
   "source": [
    "##Variables"
   ]
  },
  {
   "cell_type": "code",
   "execution_count": 9,
   "id": "44c87049",
   "metadata": {},
   "outputs": [],
   "source": [
    "x = 5"
   ]
  },
  {
   "cell_type": "code",
   "execution_count": 10,
   "id": "4cf3e17b",
   "metadata": {},
   "outputs": [
    {
     "data": {
      "text/plain": [
       "False"
      ]
     },
     "execution_count": 10,
     "metadata": {},
     "output_type": "execute_result"
    }
   ],
   "source": [
    "x ==2"
   ]
  },
  {
   "cell_type": "code",
   "execution_count": null,
   "id": "a903d473",
   "metadata": {},
   "outputs": [],
   "source": [
    "###----------------"
   ]
  },
  {
   "cell_type": "code",
   "execution_count": null,
   "id": "00852464",
   "metadata": {},
   "outputs": [],
   "source": []
  },
  {
   "cell_type": "code",
   "execution_count": null,
   "id": "215ce450",
   "metadata": {},
   "outputs": [],
   "source": []
  },
  {
   "cell_type": "code",
   "execution_count": 13,
   "id": "9b900e85",
   "metadata": {},
   "outputs": [],
   "source": [
    "greeting = 'Hello'\n",
    "name = 'Kalpana'"
   ]
  },
  {
   "cell_type": "code",
   "execution_count": 14,
   "id": "123c7dd0",
   "metadata": {},
   "outputs": [
    {
     "data": {
      "text/plain": [
       "'Hello Kalpana'"
      ]
     },
     "execution_count": 14,
     "metadata": {},
     "output_type": "execute_result"
    }
   ],
   "source": [
    "'%s %s' % (greeting, name)"
   ]
  },
  {
   "cell_type": "code",
   "execution_count": 15,
   "id": "d3d44b36",
   "metadata": {},
   "outputs": [
    {
     "data": {
      "text/plain": [
       "'Hello Kalpana!!!'"
      ]
     },
     "execution_count": 15,
     "metadata": {},
     "output_type": "execute_result"
    }
   ],
   "source": [
    "'{} {}!!!'.format(greeting, name)"
   ]
  },
  {
   "cell_type": "code",
   "execution_count": 16,
   "id": "828b42ef",
   "metadata": {},
   "outputs": [
    {
     "data": {
      "text/plain": [
       "'Hello Kalpana!!!!'"
      ]
     },
     "execution_count": 16,
     "metadata": {},
     "output_type": "execute_result"
    }
   ],
   "source": [
    "f'{greeting} {name}!!!!'"
   ]
  },
  {
   "cell_type": "code",
   "execution_count": 17,
   "id": "ad629b7e",
   "metadata": {},
   "outputs": [],
   "source": [
    "num = 5\n",
    "i = 4"
   ]
  },
  {
   "cell_type": "code",
   "execution_count": 20,
   "id": "9f545965",
   "metadata": {},
   "outputs": [
    {
     "data": {
      "text/plain": [
       "'5 * 4 = 20'"
      ]
     },
     "execution_count": 20,
     "metadata": {},
     "output_type": "execute_result"
    }
   ],
   "source": [
    "f'{num} * {i} = {num * i}'"
   ]
  },
  {
   "cell_type": "code",
   "execution_count": null,
   "id": "b6986ee6",
   "metadata": {},
   "outputs": [],
   "source": [
    "name = 'kalpana'\n",
    "print(name)"
   ]
  },
  {
   "cell_type": "code",
   "execution_count": null,
   "id": "3ac45e0e",
   "metadata": {},
   "outputs": [],
   "source": [
    "print(name)"
   ]
  },
  {
   "cell_type": "code",
   "execution_count": null,
   "id": "c6aa680e",
   "metadata": {},
   "outputs": [],
   "source": []
  }
 ],
 "metadata": {
  "kernelspec": {
   "display_name": "Python 3 (ipykernel)",
   "language": "python",
   "name": "python3"
  },
  "language_info": {
   "codemirror_mode": {
    "name": "ipython",
    "version": 3
   },
   "file_extension": ".py",
   "mimetype": "text/x-python",
   "name": "python",
   "nbconvert_exporter": "python",
   "pygments_lexer": "ipython3",
   "version": "3.9.12"
  }
 },
 "nbformat": 4,
 "nbformat_minor": 5
}
